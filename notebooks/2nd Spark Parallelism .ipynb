{
 "cells": [
  {
   "cell_type": "markdown",
   "id": "3bcc64ee",
   "metadata": {},
   "source": [
    "# Spark Parallelism"
   ]
  },
  {
   "cell_type": "markdown",
   "id": "b40e5643",
   "metadata": {},
   "source": [
    "CWD `Apache-Spark-with-Python/notebooks` -> `Apache-Spark-with-Python`\n",
    "\n",
    "(Current Working Directory)"
   ]
  },
  {
   "cell_type": "code",
   "execution_count": 1,
   "id": "4c150707",
   "metadata": {},
   "outputs": [],
   "source": [
    "import os\n",
    "os.chdir(os.environ.get(\"PWD\"))"
   ]
  },
  {
   "cell_type": "markdown",
   "id": "bbfcfc90",
   "metadata": {},
   "source": [
    "Then import from `src`"
   ]
  },
  {
   "cell_type": "code",
   "execution_count": 2,
   "id": "9c04fff1",
   "metadata": {},
   "outputs": [
    {
     "name": "stderr",
     "output_type": "stream",
     "text": [
      "Using Spark's default log4j profile: org/apache/spark/log4j-defaults.properties\n",
      "Setting default log level to \"WARN\".\n",
      "To adjust logging level use sc.setLogLevel(newLevel). For SparkR, use setLogLevel(newLevel).\n",
      "21/10/27 17:34:27 WARN NativeCodeLoader: Unable to load native-hadoop library for your platform... using builtin-java classes where applicable\n",
      "21/10/27 17:34:28 WARN Utils: Service 'SparkUI' could not bind on port 4040. Attempting port 4041.\n",
      "21/10/27 17:34:28 WARN Utils: Service 'SparkUI' could not bind on port 4041. Attempting port 4042.\n"
     ]
    }
   ],
   "source": [
    "from pyspark.context import SparkContext\n",
    "n_nodes = 4\n",
    "sc = SparkContext(appName=\"SparkBasics\", master=f\"local[{n_nodes}]\")"
   ]
  },
  {
   "cell_type": "markdown",
   "id": "058b4a3e",
   "metadata": {},
   "source": [
    "## Resilient Distributed Datasets (RDDs)"
   ]
  },
  {
   "cell_type": "markdown",
   "id": "d27d9150",
   "metadata": {},
   "source": [
    "Spark revolves around the concept of a resilient distributed dataset (RDD).\n",
    "- `resilient` immutable collection of your data\n",
    "- `distributed` data can be partitioned across nodes in your cluster\n",
    "\n",
    "1. An RDD can be created by parallelizing existing collections:"
   ]
  },
  {
   "cell_type": "code",
   "execution_count": 3,
   "id": "b35feb27",
   "metadata": {},
   "outputs": [
    {
     "data": {
      "text/plain": [
       "PythonRDD[1] at RDD at PythonRDD.scala:53"
      ]
     },
     "execution_count": 3,
     "metadata": {},
     "output_type": "execute_result"
    }
   ],
   "source": [
    "rdd = sc.parallelize(range(16))\n",
    "rdd"
   ]
  },
  {
   "cell_type": "code",
   "execution_count": 4,
   "id": "ebc5011c",
   "metadata": {},
   "outputs": [
    {
     "name": "stderr",
     "output_type": "stream",
     "text": [
      "                                                                                \r"
     ]
    },
    {
     "data": {
      "text/plain": [
       "[0, 1, 2, 3, 4, 5, 6, 7, 8, 9, 10, 11, 12, 13, 14, 15]"
      ]
     },
     "execution_count": 4,
     "metadata": {},
     "output_type": "execute_result"
    }
   ],
   "source": [
    "rdd.collect()"
   ]
  },
  {
   "cell_type": "code",
   "execution_count": 5,
   "id": "d5b5e1b4",
   "metadata": {},
   "outputs": [
    {
     "data": {
      "text/plain": [
       "[[0, 1, 2, 3], [4, 5, 6, 7], [8, 9, 10, 11], [12, 13, 14, 15]]"
      ]
     },
     "execution_count": 5,
     "metadata": {},
     "output_type": "execute_result"
    }
   ],
   "source": [
    "rdd.glom().collect()"
   ]
  },
  {
   "cell_type": "code",
   "execution_count": 6,
   "id": "b404e14c",
   "metadata": {},
   "outputs": [],
   "source": [
    "import numpy as np"
   ]
  },
  {
   "cell_type": "code",
   "execution_count": 7,
   "id": "969da0f6",
   "metadata": {},
   "outputs": [],
   "source": [
    "n_samples=100000\n",
    "random_numbers = np.random.rand(n_samples)"
   ]
  },
  {
   "cell_type": "code",
   "execution_count": 8,
   "id": "23384ed3",
   "metadata": {},
   "outputs": [],
   "source": [
    "rdd = sc.parallelize(random_numbers, numSlices=1)\n",
    "rdd_dist = sc.parallelize(random_numbers)"
   ]
  },
  {
   "cell_type": "code",
   "execution_count": null,
   "id": "aa325c16",
   "metadata": {},
   "outputs": [],
   "source": []
  },
  {
   "cell_type": "code",
   "execution_count": 9,
   "id": "2950dccb",
   "metadata": {},
   "outputs": [
    {
     "name": "stderr",
     "output_type": "stream",
     "text": [
      "21/10/27 17:34:32 WARN TaskSetManager: Stage 2 contains a task of very large size (1870 KiB). The maximum recommended task size is 1000 KiB.\n"
     ]
    },
    {
     "name": "stdout",
     "output_type": "stream",
     "text": [
      "1\n",
      "4\n"
     ]
    }
   ],
   "source": [
    "print(len(rdd.glom().collect()))\n",
    "print(len(rdd_dist.glom().collect()))"
   ]
  },
  {
   "cell_type": "code",
   "execution_count": null,
   "id": "5eeb7e86",
   "metadata": {},
   "outputs": [],
   "source": []
  },
  {
   "cell_type": "code",
   "execution_count": null,
   "id": "684efd40",
   "metadata": {},
   "outputs": [],
   "source": []
  },
  {
   "cell_type": "code",
   "execution_count": 16,
   "id": "13d32851",
   "metadata": {
    "scrolled": true
   },
   "outputs": [
    {
     "name": "stdout",
     "output_type": "stream",
     "text": [
      "CPU times: user 44.2 ms, sys: 7.47 ms, total: 51.6 ms\n",
      "Wall time: 129 ms\n"
     ]
    },
    {
     "name": "stderr",
     "output_type": "stream",
     "text": [
      "21/10/27 17:35:45 WARN TaskSetManager: Stage 9 contains a task of very large size (1870 KiB). The maximum recommended task size is 1000 KiB.\n"
     ]
    },
    {
     "data": {
      "text/plain": [
       "[0.7840254904184738,\n",
       " 0.5476920052273782,\n",
       " 0.8545235372396548,\n",
       " 0.7555378303106948,\n",
       " 0.057690424283767805]"
      ]
     },
     "execution_count": 16,
     "metadata": {},
     "output_type": "execute_result"
    }
   ],
   "source": [
    "%%time\n",
    "rdd.collect()[:5]"
   ]
  },
  {
   "cell_type": "code",
   "execution_count": 17,
   "id": "41952ed5",
   "metadata": {},
   "outputs": [
    {
     "name": "stdout",
     "output_type": "stream",
     "text": [
      "CPU times: user 49.6 ms, sys: 7.4 ms, total: 57 ms\n",
      "Wall time: 119 ms\n"
     ]
    },
    {
     "data": {
      "text/plain": [
       "[0.7840254904184738,\n",
       " 0.5476920052273782,\n",
       " 0.8545235372396548,\n",
       " 0.7555378303106948,\n",
       " 0.057690424283767805]"
      ]
     },
     "execution_count": 17,
     "metadata": {},
     "output_type": "execute_result"
    }
   ],
   "source": [
    "%%time\n",
    "rdd_dist.collect()[:5]"
   ]
  },
  {
   "cell_type": "code",
   "execution_count": 18,
   "id": "17588a4d",
   "metadata": {},
   "outputs": [],
   "source": [
    "from math import cos\n",
    "def taketime(x):\n",
    "    [cos(j*x) for j in range(100)]\n",
    "    return cos(x)"
   ]
  },
  {
   "cell_type": "code",
   "execution_count": 19,
   "id": "201948e5",
   "metadata": {},
   "outputs": [
    {
     "name": "stderr",
     "output_type": "stream",
     "text": [
      "21/10/27 17:36:03 WARN TaskSetManager: Stage 11 contains a task of very large size (1870 KiB). The maximum recommended task size is 1000 KiB.\n",
      "[Stage 11:>                                                         (0 + 1) / 1]\r"
     ]
    },
    {
     "name": "stdout",
     "output_type": "stream",
     "text": [
      "\n",
      "CPU times: user 14.6 ms, sys: 6.47 ms, total: 21 ms\n",
      "Wall time: 3.52 s\n"
     ]
    },
    {
     "name": "stderr",
     "output_type": "stream",
     "text": [
      "\r",
      "                                                                                \r"
     ]
    }
   ],
   "source": [
    "%%time\n",
    "rdd.map(lambda x: taketime(x)).collect()\n",
    "print()"
   ]
  },
  {
   "cell_type": "code",
   "execution_count": 20,
   "id": "49f5eecf",
   "metadata": {
    "scrolled": true
   },
   "outputs": [
    {
     "name": "stderr",
     "output_type": "stream",
     "text": [
      "\r",
      "[Stage 12:>                                                         (0 + 4) / 4]\r"
     ]
    },
    {
     "name": "stdout",
     "output_type": "stream",
     "text": [
      "\n",
      "CPU times: user 15.4 ms, sys: 6.47 ms, total: 21.8 ms\n",
      "Wall time: 1.32 s\n"
     ]
    },
    {
     "name": "stderr",
     "output_type": "stream",
     "text": [
      "\r",
      "                                                                                \r"
     ]
    }
   ],
   "source": [
    "%%time\n",
    "rdd_dist.map(lambda x: taketime(x)).collect()\n",
    "print()"
   ]
  },
  {
   "cell_type": "code",
   "execution_count": 21,
   "id": "10ec47cd",
   "metadata": {},
   "outputs": [
    {
     "name": "stdout",
     "output_type": "stream",
     "text": [
      "\n",
      "CPU times: user 3.14 s, sys: 25.2 ms, total: 3.17 s\n",
      "Wall time: 3.23 s\n"
     ]
    }
   ],
   "source": [
    "%%time\n",
    "[taketime(x) for x in random_numbers]\n",
    "print()"
   ]
  },
  {
   "cell_type": "code",
   "execution_count": null,
   "id": "7d81d679",
   "metadata": {},
   "outputs": [],
   "source": [
    "f\"{(3.22/1.34):2.4f}\""
   ]
  },
  {
   "cell_type": "code",
   "execution_count": null,
   "id": "cba68c87",
   "metadata": {},
   "outputs": [],
   "source": []
  }
 ],
 "metadata": {
  "kernelspec": {
   "display_name": "Python 3 (ipykernel)",
   "language": "python",
   "name": "python3"
  },
  "language_info": {
   "codemirror_mode": {
    "name": "ipython",
    "version": 3
   },
   "file_extension": ".py",
   "mimetype": "text/x-python",
   "name": "python",
   "nbconvert_exporter": "python",
   "pygments_lexer": "ipython3",
   "version": "3.9.7"
  }
 },
 "nbformat": 4,
 "nbformat_minor": 5
}
